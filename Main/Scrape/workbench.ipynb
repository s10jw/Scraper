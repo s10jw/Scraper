{
 "cells": [
  {
   "cell_type": "code",
   "execution_count": 2,
   "metadata": {},
   "outputs": [],
   "source": [
    "# Imports\n",
    "from scrape import *\n",
    "from useragents import *"
   ]
  },
  {
   "cell_type": "code",
   "execution_count": 3,
   "metadata": {},
   "outputs": [],
   "source": [
    "# Create ShadowGovernment Obj\n",
    "shadow = ShadowGovernment()\n",
    "source = shadow.get(\"https://primer.ai/about-primer/careers/#openRoles\")\n",
    "soup = BeautifulSoup(source)"
   ]
  },
  {
   "cell_type": "code",
   "execution_count": 4,
   "metadata": {},
   "outputs": [],
   "source": [
    "[s.extract() for s in soup(['style', 'script', '[document]', 'head', 'title'])]\n",
    "visible_text = soup.getText()"
   ]
  },
  {
   "cell_type": "code",
   "execution_count": null,
   "metadata": {},
   "outputs": [],
   "source": [
    "# print(html)\n",
    "print(soup.prettify)\n"
   ]
  },
  {
   "cell_type": "code",
   "execution_count": null,
   "metadata": {},
   "outputs": [],
   "source": [
    "# Extract meaningful text, e.g., from specific tags\n",
    "job_titles = []\n",
    "for tag in soup.find_all([\"span\", \"div\", \"b\"]):  # Adjust tags based on your use case\n",
    "    job_titles.append(tag.get_text(strip=False))\n",
    "\n",
    "# Combine the extracted text\n",
    "text = \" \".join(job_titles)\n",
    "print(text)"
   ]
  }
 ],
 "metadata": {
  "kernelspec": {
   "display_name": ".venv",
   "language": "python",
   "name": "python3"
  },
  "language_info": {
   "codemirror_mode": {
    "name": "ipython",
    "version": 3
   },
   "file_extension": ".py",
   "mimetype": "text/x-python",
   "name": "python",
   "nbconvert_exporter": "python",
   "pygments_lexer": "ipython3",
   "version": "3.8.6"
  }
 },
 "nbformat": 4,
 "nbformat_minor": 2
}
